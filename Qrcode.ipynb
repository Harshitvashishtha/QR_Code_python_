{
 "cells": [
  {
   "cell_type": "code",
   "execution_count": 1,
   "id": "9ee62147",
   "metadata": {},
   "outputs": [
    {
     "name": "stdout",
     "output_type": "stream",
     "text": [
      "Requirement already satisfied: qrcode in c:\\users\\hvash\\anaconda3\\lib\\site-packages (7.4.2)\n",
      "Requirement already satisfied: colorama in c:\\users\\hvash\\anaconda3\\lib\\site-packages (from qrcode) (0.4.4)\n",
      "Requirement already satisfied: pypng in c:\\users\\hvash\\anaconda3\\lib\\site-packages (from qrcode) (0.20220715.0)\n",
      "Requirement already satisfied: typing-extensions in c:\\users\\hvash\\anaconda3\\lib\\site-packages (from qrcode) (4.1.1)\n",
      "Note: you may need to restart the kernel to use updated packages.\n"
     ]
    }
   ],
   "source": [
    "pip install qrcode"
   ]
  },
  {
   "cell_type": "code",
   "execution_count": 2,
   "id": "6e8f306f",
   "metadata": {},
   "outputs": [
    {
     "name": "stdout",
     "output_type": "stream",
     "text": [
      "Requirement already satisfied: image in c:\\users\\hvash\\anaconda3\\lib\\site-packages (1.5.33)\n",
      "Requirement already satisfied: six in c:\\users\\hvash\\anaconda3\\lib\\site-packages (from image) (1.16.0)\n",
      "Requirement already satisfied: django in c:\\users\\hvash\\anaconda3\\lib\\site-packages (from image) (4.2.8)\n",
      "Requirement already satisfied: pillow in c:\\users\\hvash\\anaconda3\\lib\\site-packages (from image) (9.0.1)\n",
      "Requirement already satisfied: asgiref<4,>=3.6.0 in c:\\users\\hvash\\anaconda3\\lib\\site-packages (from django->image) (3.7.2)\n",
      "Requirement already satisfied: sqlparse>=0.3.1 in c:\\users\\hvash\\anaconda3\\lib\\site-packages (from django->image) (0.4.4)\n",
      "Requirement already satisfied: tzdata in c:\\users\\hvash\\anaconda3\\lib\\site-packages (from django->image) (2023.4)\n",
      "Requirement already satisfied: typing-extensions>=4 in c:\\users\\hvash\\anaconda3\\lib\\site-packages (from asgiref<4,>=3.6.0->django->image) (4.1.1)\n",
      "Note: you may need to restart the kernel to use updated packages.\n"
     ]
    }
   ],
   "source": [
    "pip install image"
   ]
  },
  {
   "cell_type": "code",
   "execution_count": 3,
   "id": "9a6e1256",
   "metadata": {},
   "outputs": [],
   "source": [
    "import qrcode\n",
    "import image"
   ]
  },
  {
   "cell_type": "code",
   "execution_count": 4,
   "id": "488e2adc",
   "metadata": {},
   "outputs": [],
   "source": [
    "qr=qrcode.QRCode(version=15, # version \n",
    "                  box_size=10, # size of the box where the qr code is displayed  \n",
    "                border=5 # white border in the qr code.\n",
    "                )"
   ]
  },
  {
   "cell_type": "code",
   "execution_count": 5,
   "id": "e3eef496",
   "metadata": {},
   "outputs": [],
   "source": [
    "data=\"https://www.linkedin.com/in/harshit-vashishtha-0266491b2\""
   ]
  },
  {
   "cell_type": "code",
   "execution_count": 6,
   "id": "18c80cc2",
   "metadata": {},
   "outputs": [],
   "source": [
    "qr.add_data(data)\n",
    "qr.make(fit=True)"
   ]
  },
  {
   "cell_type": "code",
   "execution_count": 7,
   "id": "79acbf36",
   "metadata": {},
   "outputs": [],
   "source": [
    "img=qr.make_image(fill=\"black\", back_color = \"white\")\n",
    "img.save(\"Linkedin.png\")"
   ]
  },
  {
   "cell_type": "code",
   "execution_count": null,
   "id": "22575b8d",
   "metadata": {},
   "outputs": [],
   "source": []
  }
 ],
 "metadata": {
  "kernelspec": {
   "display_name": "Python 3 (ipykernel)",
   "language": "python",
   "name": "python3"
  },
  "language_info": {
   "codemirror_mode": {
    "name": "ipython",
    "version": 3
   },
   "file_extension": ".py",
   "mimetype": "text/x-python",
   "name": "python",
   "nbconvert_exporter": "python",
   "pygments_lexer": "ipython3",
   "version": "3.9.12"
  }
 },
 "nbformat": 4,
 "nbformat_minor": 5
}
